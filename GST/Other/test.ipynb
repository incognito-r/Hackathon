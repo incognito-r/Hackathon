{
 "cells": [
  {
   "cell_type": "code",
   "execution_count": 1,
   "metadata": {},
   "outputs": [],
   "source": [
    "import pandas as pd"
   ]
  },
  {
   "cell_type": "code",
   "execution_count": 7,
   "metadata": {},
   "outputs": [],
   "source": [
    "data = {\n",
    "    \"ID\": [\"ad1a67e4cbddc767a3456b0d94299b9f\"],\n",
    "    \"Column0\": [2.0],\n",
    "    \"Column1\": [2494],\n",
    "    \"Column2\": [3726.1],\n",
    "    \"Column3\": [0.678],\n",
    "    \"Column4\": [0.702],\n",
    "    \"Column5\": [-0.0075],\n",
    "    \"Column6\": [0.4345],\n",
    "    \"Column7\": [-0.0157],\n",
    "    \"Column8\": [0.6063],\n",
    "    \"Column10\": [0],\n",
    "    \"Column11\": [0],\n",
    "    \"Column12\": [0],\n",
    "    \"Column13\": [0],\n",
    "    \"Column15\": [0.00339],\n",
    "    \"Column16\": [0.0],\n",
    "    \"Column17\": [0],\n",
    "    \"Column18\": [0.0],\n",
    "    \"Column19\": [0],\n",
    "    \"Column20\": [0],\n",
    "    \"Column21\": [0]\n",
    "}\n",
    "\n",
    "# Create the modified DataFrame\n",
    "df = pd.DataFrame(data)"
   ]
  },
  {
   "cell_type": "code",
   "execution_count": 8,
   "metadata": {},
   "outputs": [
    {
     "data": {
      "text/html": [
       "<div>\n",
       "<style scoped>\n",
       "    .dataframe tbody tr th:only-of-type {\n",
       "        vertical-align: middle;\n",
       "    }\n",
       "\n",
       "    .dataframe tbody tr th {\n",
       "        vertical-align: top;\n",
       "    }\n",
       "\n",
       "    .dataframe thead th {\n",
       "        text-align: right;\n",
       "    }\n",
       "</style>\n",
       "<table border=\"1\" class=\"dataframe\">\n",
       "  <thead>\n",
       "    <tr style=\"text-align: right;\">\n",
       "      <th></th>\n",
       "      <th>ID</th>\n",
       "      <th>Column0</th>\n",
       "      <th>Column1</th>\n",
       "      <th>Column2</th>\n",
       "      <th>Column3</th>\n",
       "      <th>Column4</th>\n",
       "      <th>Column5</th>\n",
       "      <th>Column6</th>\n",
       "      <th>Column7</th>\n",
       "      <th>Column8</th>\n",
       "      <th>...</th>\n",
       "      <th>Column11</th>\n",
       "      <th>Column12</th>\n",
       "      <th>Column13</th>\n",
       "      <th>Column15</th>\n",
       "      <th>Column16</th>\n",
       "      <th>Column17</th>\n",
       "      <th>Column18</th>\n",
       "      <th>Column19</th>\n",
       "      <th>Column20</th>\n",
       "      <th>Column21</th>\n",
       "    </tr>\n",
       "  </thead>\n",
       "  <tbody>\n",
       "    <tr>\n",
       "      <th>0</th>\n",
       "      <td>ad1a67e4cbddc767a3456b0d94299b9f</td>\n",
       "      <td>2.0</td>\n",
       "      <td>2494</td>\n",
       "      <td>3726.1</td>\n",
       "      <td>0.678</td>\n",
       "      <td>0.702</td>\n",
       "      <td>-0.0075</td>\n",
       "      <td>0.4345</td>\n",
       "      <td>-0.0157</td>\n",
       "      <td>0.6063</td>\n",
       "      <td>...</td>\n",
       "      <td>0</td>\n",
       "      <td>0</td>\n",
       "      <td>0</td>\n",
       "      <td>0.00339</td>\n",
       "      <td>0.0</td>\n",
       "      <td>0</td>\n",
       "      <td>0.0</td>\n",
       "      <td>0</td>\n",
       "      <td>0</td>\n",
       "      <td>0</td>\n",
       "    </tr>\n",
       "  </tbody>\n",
       "</table>\n",
       "<p>1 rows × 21 columns</p>\n",
       "</div>"
      ],
      "text/plain": [
       "                                 ID  Column0  Column1  Column2  Column3  \\\n",
       "0  ad1a67e4cbddc767a3456b0d94299b9f      2.0     2494   3726.1    0.678   \n",
       "\n",
       "   Column4  Column5  Column6  Column7  Column8  ...  Column11  Column12  \\\n",
       "0    0.702  -0.0075   0.4345  -0.0157   0.6063  ...         0         0   \n",
       "\n",
       "   Column13  Column15  Column16  Column17  Column18  Column19  Column20  \\\n",
       "0         0   0.00339       0.0         0       0.0         0         0   \n",
       "\n",
       "   Column21  \n",
       "0         0  \n",
       "\n",
       "[1 rows x 21 columns]"
      ]
     },
     "execution_count": 8,
     "metadata": {},
     "output_type": "execute_result"
    }
   ],
   "source": [
    "df.head()"
   ]
  },
  {
   "cell_type": "code",
   "execution_count": 9,
   "metadata": {},
   "outputs": [
    {
     "data": {
      "text/plain": [
       "(1, 21)"
      ]
     },
     "execution_count": 9,
     "metadata": {},
     "output_type": "execute_result"
    }
   ],
   "source": [
    "df.shape"
   ]
  },
  {
   "cell_type": "code",
   "execution_count": null,
   "metadata": {},
   "outputs": [],
   "source": [
    "output = predictor(df)\n",
    "output"
   ]
  }
 ],
 "metadata": {
  "kernelspec": {
   "display_name": ".venv",
   "language": "python",
   "name": "python3"
  },
  "language_info": {
   "codemirror_mode": {
    "name": "ipython",
    "version": 3
   },
   "file_extension": ".py",
   "mimetype": "text/x-python",
   "name": "python",
   "nbconvert_exporter": "python",
   "pygments_lexer": "ipython3",
   "version": "3.11.5"
  }
 },
 "nbformat": 4,
 "nbformat_minor": 2
}
